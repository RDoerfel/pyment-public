{
 "cells": [
  {
   "cell_type": "markdown",
   "id": "4e768b17",
   "metadata": {},
   "source": [
    "## 0. Setup"
   ]
  },
  {
   "cell_type": "code",
   "execution_count": null,
   "id": "9047c24e",
   "metadata": {},
   "outputs": [],
   "source": [
    "import os\n",
    "\n",
    "\n",
    "batch_size = 2\n",
    "threads = 4\n",
    "\n",
    "# Should point to the root folder of the cropped images, see the tutorial for preparing IXI\n",
    "dataset_folder = os.path.join(os.path.expanduser('~'), 'data', 'IXI', 'cropped')"
   ]
  },
  {
   "cell_type": "markdown",
   "id": "74de0653",
   "metadata": {},
   "source": [
    "## 1. Instantiate the generator"
   ]
  },
  {
   "cell_type": "code",
   "execution_count": null,
   "id": "9986979b",
   "metadata": {},
   "outputs": [],
   "source": [
    "from pyment.data import AsyncNiftiGenerator, NiftiDataset\n",
    "\n",
    "\n",
    "dataset = NiftiDataset.from_folder(dataset_folder, target='id')\n",
    "\n",
    "# Set up a preprocessor to normalize the voxel values\n",
    "preprocessor = lambda x: x/255\n",
    "\n",
    "generator = AsyncNiftiGenerator(dataset, preprocessor=preprocessor, \n",
    "                                batch_size=batch_size, threads=threads)"
   ]
  },
  {
   "cell_type": "markdown",
   "id": "24d34894",
   "metadata": {},
   "source": [
    "## 2. Sanity check the generator"
   ]
  },
  {
   "cell_type": "code",
   "execution_count": null,
   "id": "cbb062df",
   "metadata": {},
   "outputs": [],
   "source": [
    "import matplotlib.pyplot as plt\n",
    "import numpy as np\n",
    "\n",
    "batches = 0\n",
    "\n",
    "for X, y in generator:\n",
    "    fig, ax = plt.subplots(1, batch_size)\n",
    "    fig.suptitle(f'Batch {batches+1}')\n",
    "    \n",
    "    for i in range(batch_size):\n",
    "        ax[i].imshow(X[i,83,:,:])\n",
    "        ax[i].axis('off')\n",
    "        ax[i].set_title(y[i])\n",
    "        \n",
    "    plt.show()\n",
    "    \n",
    "    print(f'Image batch shape: {X.shape}')\n",
    "    print(f'Image voxel value range: {round(np.amin(X), 2)}-{round(np.amax(X), 2)}')\n",
    "    \n",
    "    batches += 1\n",
    "    \n",
    "    if batches > 5:\n",
    "        break"
   ]
  },
  {
   "cell_type": "markdown",
   "id": "3e27b9ce",
   "metadata": {},
   "source": [
    "## 3. Configure the model"
   ]
  },
  {
   "cell_type": "code",
   "execution_count": null,
   "id": "8a6ad775",
   "metadata": {},
   "outputs": [],
   "source": [
    "from pyment.models import RegressionSFCN\n",
    "\n",
    "\n",
    "model = RegressionSFCN(weights='brain_age', include_top=False)"
   ]
  },
  {
   "cell_type": "markdown",
   "id": "df045dfb",
   "metadata": {},
   "source": [
    "## 4. Generate feature vectors"
   ]
  },
  {
   "cell_type": "code",
   "execution_count": null,
   "id": "b6aff04a",
   "metadata": {},
   "outputs": [],
   "source": [
    "dataset.target = 'id'\n",
    "\n",
    "generator.reset()\n",
    "\n",
    "preds, ids = model.predict(generator, return_labels=True)"
   ]
  },
  {
   "cell_type": "code",
   "execution_count": null,
   "id": "75c46f3f",
   "metadata": {},
   "outputs": [],
   "source": [
    "import numpy as np\n",
    "import pandas as pd\n",
    "\n",
    "from sklearn.manifold import TSNE\n",
    "\n",
    "\n",
    "np.random.seed(42)\n",
    "\n",
    "features = [f'Feature {x}' for x in range(64)]\n",
    "predictions = pd.DataFrame(preds, index=ids, columns=features)\n",
    "labels = pd.DataFrame({'age': dataset._labels['age'], 'sex': dataset._labels['sex']}, index=dataset.ids)\n",
    "df = predictions.join(labels)\n",
    "\n",
    "tsne = TSNE(n_components=2, perplexity=50, init='pca')\n",
    "components = tsne.fit_transform(df[features])\n",
    "\n",
    "female = df['sex'] == 'F'\n",
    "male = df['sex'] == 'M'\n",
    "\n",
    "fig = plt.figure(figsize=(10, 10))\n",
    "\n",
    "fig.suptitle('t-SNE reduced feature vectors')\n",
    "\n",
    "vmin = np.amin(df['age'])\n",
    "vmax = np.amax(df['age'])\n",
    "\n",
    "f = plt.scatter(components[female,0], components[female,1], marker='o', \n",
    "                c=df.loc[female, 'age'].values, vmin=vmin, vmax=vmax)\n",
    "m = plt.scatter(components[male,0], components[male,1], marker='^', \n",
    "                c=df.loc[male, 'age'].values, vmin=vmin, vmax=vmax)\n",
    "\n",
    "clb = plt.colorbar(f)\n",
    "clb.ax.set_title('Age')\n",
    "\n",
    "plt.gca().axis('off')\n",
    "\n",
    "plt.legend([f, m], ['Female', 'Male'])\n",
    "\n",
    "plt.show()"
   ]
  },
  {
   "cell_type": "code",
   "execution_count": null,
   "id": "12bd2aa9",
   "metadata": {},
   "outputs": [],
   "source": []
  }
 ],
 "metadata": {
  "kernelspec": {
   "display_name": "Python 3",
   "language": "python",
   "name": "python3"
  },
  "language_info": {
   "codemirror_mode": {
    "name": "ipython",
    "version": 3
   },
   "file_extension": ".py",
   "mimetype": "text/x-python",
   "name": "python",
   "nbconvert_exporter": "python",
   "pygments_lexer": "ipython3",
   "version": "3.9.5"
  }
 },
 "nbformat": 4,
 "nbformat_minor": 5
}
