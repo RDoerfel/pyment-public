{
 "cells": [
  {
   "cell_type": "markdown",
   "id": "7c0d0e14",
   "metadata": {},
   "source": [
    "# 1. Split the data into folds for training/validation/test"
   ]
  },
  {
   "cell_type": "code",
   "execution_count": null,
   "id": "b70cd30d",
   "metadata": {},
   "outputs": [],
   "source": [
    "import os\n",
    "import sys\n",
    "\n",
    "from functools import reduce\n",
    "\n",
    "from pyment.data import NiftiDataset\n",
    "from pyment.labels import BinaryLabel\n",
    "\n",
    "\n",
    "data_folder = os.path.join(os.path.expanduser('~'), 'data', 'IXI', 'resized')\n",
    "project_folder = os.path.join(os.path.expanduser('~'), 'projects', 'brain-sex')\n",
    "\n",
    "if not os.path.isdir(project_folder):\n",
    "    os.mkdir(project_folder)\n",
    "\n",
    "if not os.path.isdir(os.path.join(project_folder, 'data')):\n",
    "    os.mkdir(os.path.join(project_folder, 'data'))\n",
    "\n",
    "    dataset = NiftiDataset.from_folder(data_folder, target='sex')\n",
    "    label = BinaryLabel(name='sex', mapping={'M': 0, 'F': 1})\n",
    "    label.fit(dataset.y)\n",
    "    dataset.add_encoder('sex', label)\n",
    "    \n",
    "    test_folds = dataset.stratified_folds(5, variables=['sex', 'scanner', 'age'])\n",
    "    test = test_folds[2]\n",
    "    train = reduce(lambda x, y: x + y, [test_folds[i] for i in range(len(test_folds)) \\\n",
    "                                        if i != 2])\n",
    "\n",
    "    folds = train.stratified_folds(5, variables=['sex', 'scanner', 'age'])\n",
    "    print(folds)\n",
    "    \n",
    "    test.save(os.path.join(os.path.join(project_folder, 'data', 'test.json')))\n",
    "    \n",
    "    for i in range(len(folds)):\n",
    "        folds[i].save(os.path.join(project_folder, 'data', f'fold_{i}.json'))"
   ]
  },
  {
   "cell_type": "markdown",
   "id": "3f2507f1",
   "metadata": {},
   "source": [
    "# 2. Configure a binary SFCN model"
   ]
  },
  {
   "cell_type": "code",
   "execution_count": null,
   "id": "89b52a3b",
   "metadata": {},
   "outputs": [],
   "source": [
    "import json\n",
    "\n",
    "from tensorflow.keras.layers import Dense\n",
    "\n",
    "from pyment.models import Model, RegressionSFCN\n",
    "\n",
    "backbone = RegressionSFCN(input_shape=[43, 54, 41], weights='brain-age', include_top=False, \n",
    "                          dropout=0.5, weight_decay=1e-3)\n",
    "\n",
    "head = Dense(1, activation='sigmoid')(backbone.output)\n",
    "\n",
    "model = Model(backbone.input, head)\n",
    "\n",
    "model = model.save(os.path.join(project_folder, 'model'))"
   ]
  },
  {
   "cell_type": "markdown",
   "id": "76d7ec38",
   "metadata": {},
   "source": [
    "# 3. Configure a preprocessor, an augmenter and a learning rate schedule"
   ]
  },
  {
   "cell_type": "code",
   "execution_count": null,
   "id": "866dcf52",
   "metadata": {},
   "outputs": [],
   "source": [
    "from pyment.data.augmenters import NiftiAugmenter\n",
    "from pyment.data.preprocessors import NiftiPreprocessor\n",
    "from pyment.utils.learning_rate import LearningRateSchedule\n",
    "\n",
    "# Create a preprocessor which normalizes the images to the range [0, 1]\n",
    "preprocessor = NiftiPreprocessor(sigma=255.)\n",
    "preprocessor.save(os.path.join(project_folder, 'preprocessor.json'))\n",
    "print(preprocessor)\n",
    "\n",
    "augmenter = NiftiAugmenter(flip_probabilities=[0.5, 0, 0])\n",
    "augmenter.save(os.path.join(project_folder, 'augmenter.json'))\n",
    "print(augmenter)\n",
    "\n",
    "learning_rate_schedule = LearningRateSchedule({0: 1e-4, 20: 1e-5})\n",
    "learning_rate_schedule.save(os.path.join(project_folder, 'learning_rate_schedule.json'))\n",
    "print(learning_rate_schedule)"
   ]
  },
  {
   "cell_type": "code",
   "execution_count": null,
   "id": "771ecf4b",
   "metadata": {},
   "outputs": [],
   "source": [
    "from shutil import rmtree\n",
    "\n",
    "from fit_model import fit_model\n",
    "\n",
    "run_folder = os.path.join(project_folder, 'run')\n",
    "\n",
    "if os.path.isdir(run_folder):\n",
    "    rmtree(run_folder)\n",
    "    \n",
    "fit_model(model=os.path.join(project_folder, 'model'),\n",
    "          training=[os.path.join(project_folder, 'data', f'fold_{i}.json') \\\n",
    "                    for i in range(4)],\n",
    "          validation=[os.path.join(project_folder, 'data', f'fold_4.json')],\n",
    "          preprocessor=os.path.join(project_folder, 'preprocessor.json'),\n",
    "          augmenter=os.path.join(project_folder, 'augmenter.json'),\n",
    "          batch_size=4,\n",
    "          num_threads=8,\n",
    "          loss='binary_crossentropy',\n",
    "          metrics=['accuracy'],\n",
    "          learning_rate_schedule=os.path.join(project_folder, 'learning_rate_schedule.json'),\n",
    "          epochs=40,\n",
    "          domain=None,\n",
    "          destination=run_folder)"
   ]
  },
  {
   "cell_type": "code",
   "execution_count": null,
   "id": "650a11a2",
   "metadata": {},
   "outputs": [],
   "source": []
  }
 ],
 "metadata": {
  "kernelspec": {
   "display_name": "Python 3 (ipykernel)",
   "language": "python",
   "name": "python3"
  },
  "language_info": {
   "codemirror_mode": {
    "name": "ipython",
    "version": 3
   },
   "file_extension": ".py",
   "mimetype": "text/x-python",
   "name": "python",
   "nbconvert_exporter": "python",
   "pygments_lexer": "ipython3",
   "version": "3.7.12"
  }
 },
 "nbformat": 4,
 "nbformat_minor": 5
}
