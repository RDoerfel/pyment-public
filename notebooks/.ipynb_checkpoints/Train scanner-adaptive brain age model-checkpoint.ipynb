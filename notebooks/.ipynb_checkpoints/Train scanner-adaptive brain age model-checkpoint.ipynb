{
 "cells": [
  {
   "cell_type": "markdown",
   "id": "85885894",
   "metadata": {},
   "source": [
    "# 0. Add scanner column to IXI labels file"
   ]
  },
  {
   "cell_type": "code",
   "execution_count": 1,
   "id": "c98c018a",
   "metadata": {},
   "outputs": [
    {
     "data": {
      "text/html": [
       "<div>\n",
       "<style scoped>\n",
       "    .dataframe tbody tr th:only-of-type {\n",
       "        vertical-align: middle;\n",
       "    }\n",
       "\n",
       "    .dataframe tbody tr th {\n",
       "        vertical-align: top;\n",
       "    }\n",
       "\n",
       "    .dataframe thead th {\n",
       "        text-align: right;\n",
       "    }\n",
       "</style>\n",
       "<table border=\"1\" class=\"dataframe\">\n",
       "  <thead>\n",
       "    <tr style=\"text-align: right;\">\n",
       "      <th></th>\n",
       "      <th>id</th>\n",
       "      <th>sex</th>\n",
       "      <th>age</th>\n",
       "      <th>dataset</th>\n",
       "      <th>scanner</th>\n",
       "    </tr>\n",
       "  </thead>\n",
       "  <tbody>\n",
       "    <tr>\n",
       "      <th>0</th>\n",
       "      <td>IXI012-HH-1211-T1</td>\n",
       "      <td>M</td>\n",
       "      <td>38.781656</td>\n",
       "      <td>IXI</td>\n",
       "      <td>HH</td>\n",
       "    </tr>\n",
       "    <tr>\n",
       "      <th>1</th>\n",
       "      <td>IXI013-HH-1212-T1</td>\n",
       "      <td>M</td>\n",
       "      <td>46.710472</td>\n",
       "      <td>IXI</td>\n",
       "      <td>HH</td>\n",
       "    </tr>\n",
       "    <tr>\n",
       "      <th>2</th>\n",
       "      <td>IXI014-HH-1236-T1</td>\n",
       "      <td>F</td>\n",
       "      <td>34.236824</td>\n",
       "      <td>IXI</td>\n",
       "      <td>HH</td>\n",
       "    </tr>\n",
       "    <tr>\n",
       "      <th>3</th>\n",
       "      <td>IXI015-HH-1258-T1</td>\n",
       "      <td>M</td>\n",
       "      <td>24.284736</td>\n",
       "      <td>IXI</td>\n",
       "      <td>HH</td>\n",
       "    </tr>\n",
       "    <tr>\n",
       "      <th>4</th>\n",
       "      <td>IXI016-Guys-0697-T1</td>\n",
       "      <td>M</td>\n",
       "      <td>55.167693</td>\n",
       "      <td>IXI</td>\n",
       "      <td>Guys</td>\n",
       "    </tr>\n",
       "  </tbody>\n",
       "</table>\n",
       "</div>"
      ],
      "text/plain": [
       "                    id sex        age dataset scanner\n",
       "0    IXI012-HH-1211-T1   M  38.781656     IXI      HH\n",
       "1    IXI013-HH-1212-T1   M  46.710472     IXI      HH\n",
       "2    IXI014-HH-1236-T1   F  34.236824     IXI      HH\n",
       "3    IXI015-HH-1258-T1   M  24.284736     IXI      HH\n",
       "4  IXI016-Guys-0697-T1   M  55.167693     IXI    Guys"
      ]
     },
     "execution_count": 1,
     "metadata": {},
     "output_type": "execute_result"
    }
   ],
   "source": [
    "import os\n",
    "import pandas as pd\n",
    "\n",
    "data_folder = os.path.join(os.path.expanduser('~'), 'data', 'IXI', 'resized')\n",
    "labels_file = os.path.join(data_folder, 'labels.csv')\n",
    "project_folder = os.path.join(os.path.expanduser('~'), 'projects', 'scanner-adaptation')\n",
    "\n",
    "df = pd.read_csv(labels_file, index_col=False)\n",
    "df['scanner'] = df['id'].apply(lambda x: x.split('-')[1])\n",
    "df.to_csv(labels_file, index=False)\n",
    "df.head()"
   ]
  },
  {
   "cell_type": "markdown",
   "id": "872ce19f",
   "metadata": {},
   "source": [
    "# 1. Configure a label encoding the scanners"
   ]
  },
  {
   "cell_type": "code",
   "execution_count": 2,
   "id": "d64f68fc",
   "metadata": {},
   "outputs": [
    {
     "name": "stderr",
     "output_type": "stream",
     "text": [
      "2022-01-11 16:30:36,884 - INFO - pyment.labels.categorical_label: Fitted categorical label with mapping {'Guys': 0, 'HH': 1, 'IOP': 2} and frequencies {'Guys': 300, 'HH': 169, 'IOP': 68}\n"
     ]
    }
   ],
   "source": [
    "# Add scripts folder to path\n",
    "import sys\n",
    "sys.path.append(os.path.join(os.pardir, 'scripts'))\n",
    "\n",
    "from configure_label import configure_label\n",
    "\n",
    "configure_label(name='scanner', variabletype='categorical', filenames=[labels_file], columns=['scanner'],\n",
    "                destination=os.path.join(project_folder, 'scanners.json'), kwargs='{\"encoding\": \"index\"}')"
   ]
  },
  {
   "cell_type": "markdown",
   "id": "7c0d0e14",
   "metadata": {},
   "source": [
    "# 2. Split the data into folds for training/validation/test"
   ]
  },
  {
   "cell_type": "code",
   "execution_count": 3,
   "id": "b70cd30d",
   "metadata": {},
   "outputs": [
    {
     "ename": "ValueError",
     "evalue": "Folder /home/esten/projects/scanner-adaptation/data already exists",
     "output_type": "error",
     "traceback": [
      "\u001b[0;31m---------------------------------------------------------------------------\u001b[0m",
      "\u001b[0;31mValueError\u001b[0m                                Traceback (most recent call last)",
      "\u001b[0;32m/tmp/ipykernel_5332/2768944778.py\u001b[0m in \u001b[0;36m<module>\u001b[0;34m\u001b[0m\n\u001b[1;32m      3\u001b[0m configure_nifti_folds(folders=[data_folder], targets='age', stratification=['age', 'sex', 'scanner'],\n\u001b[1;32m      4\u001b[0m                       \u001b[0mk\u001b[0m\u001b[0;34m=\u001b[0m\u001b[0;36m5\u001b[0m\u001b[0;34m,\u001b[0m \u001b[0mtest_portion\u001b[0m\u001b[0;34m=\u001b[0m\u001b[0;36m0.2\u001b[0m\u001b[0;34m,\u001b[0m \u001b[0mencoders\u001b[0m\u001b[0;34m=\u001b[0m\u001b[0;34m[\u001b[0m\u001b[0mos\u001b[0m\u001b[0;34m.\u001b[0m\u001b[0mpath\u001b[0m\u001b[0;34m.\u001b[0m\u001b[0mjoin\u001b[0m\u001b[0;34m(\u001b[0m\u001b[0mproject_folder\u001b[0m\u001b[0;34m,\u001b[0m \u001b[0;34m'scanners.json'\u001b[0m\u001b[0;34m)\u001b[0m\u001b[0;34m]\u001b[0m\u001b[0;34m,\u001b[0m\u001b[0;34m\u001b[0m\u001b[0;34m\u001b[0m\u001b[0m\n\u001b[0;32m----> 5\u001b[0;31m                       destination=os.path.join(project_folder, 'data'))\n\u001b[0m",
      "\u001b[0;32m~/repos/pyment-public/scripts/configure_nifti_folds.py\u001b[0m in \u001b[0;36mconfigure_nifti_folds\u001b[0;34m(folders, targets, stratification, k, test_portion, encoders, destination)\u001b[0m\n\u001b[1;32m     49\u001b[0m         \"\"\"\n\u001b[1;32m     50\u001b[0m     \u001b[0;32mif\u001b[0m \u001b[0mos\u001b[0m\u001b[0;34m.\u001b[0m\u001b[0mpath\u001b[0m\u001b[0;34m.\u001b[0m\u001b[0misdir\u001b[0m\u001b[0;34m(\u001b[0m\u001b[0mdestination\u001b[0m\u001b[0;34m)\u001b[0m\u001b[0;34m:\u001b[0m\u001b[0;34m\u001b[0m\u001b[0;34m\u001b[0m\u001b[0m\n\u001b[0;32m---> 51\u001b[0;31m         \u001b[0;32mraise\u001b[0m \u001b[0mValueError\u001b[0m\u001b[0;34m(\u001b[0m\u001b[0;34mf'Folder {destination} already exists'\u001b[0m\u001b[0;34m)\u001b[0m\u001b[0;34m\u001b[0m\u001b[0;34m\u001b[0m\u001b[0m\n\u001b[0m\u001b[1;32m     52\u001b[0m \u001b[0;34m\u001b[0m\u001b[0m\n\u001b[1;32m     53\u001b[0m     \u001b[0;32mif\u001b[0m \u001b[0mtargets\u001b[0m \u001b[0;32mis\u001b[0m \u001b[0;32mNone\u001b[0m\u001b[0;34m:\u001b[0m\u001b[0;34m\u001b[0m\u001b[0;34m\u001b[0m\u001b[0m\n",
      "\u001b[0;31mValueError\u001b[0m: Folder /home/esten/projects/scanner-adaptation/data already exists"
     ]
    }
   ],
   "source": [
    "from configure_nifti_folds import configure_nifti_folds\n",
    "\n",
    "configure_nifti_folds(folders=[data_folder], targets='age', stratification=['age', 'sex', 'scanner'],\n",
    "                      k=5, test_portion=0.2, encoders=[os.path.join(project_folder, 'scanners.json')],\n",
    "                      destination=os.path.join(project_folder, 'data'))"
   ]
  },
  {
   "cell_type": "markdown",
   "id": "3f2507f1",
   "metadata": {},
   "source": [
    "# 3. Configure a domain-adaptive SFCN regression model"
   ]
  },
  {
   "cell_type": "code",
   "execution_count": 4,
   "id": "89b52a3b",
   "metadata": {},
   "outputs": [
    {
     "name": "stderr",
     "output_type": "stream",
     "text": [
      "2022-01-11 16:30:40.503240: I tensorflow/stream_executor/cuda/cuda_gpu_executor.cc:939] successful NUMA node read from SysFS had negative value (-1), but there must be at least one NUMA node, so returning NUMA node zero\n",
      "2022-01-11 16:30:40.510815: I tensorflow/stream_executor/cuda/cuda_gpu_executor.cc:939] successful NUMA node read from SysFS had negative value (-1), but there must be at least one NUMA node, so returning NUMA node zero\n",
      "2022-01-11 16:30:40.511021: I tensorflow/stream_executor/cuda/cuda_gpu_executor.cc:939] successful NUMA node read from SysFS had negative value (-1), but there must be at least one NUMA node, so returning NUMA node zero\n",
      "2022-01-11 16:30:40.511955: I tensorflow/core/platform/cpu_feature_guard.cc:151] This TensorFlow binary is optimized with oneAPI Deep Neural Network Library (oneDNN) to use the following CPU instructions in performance-critical operations:  AVX2 FMA\n",
      "To enable them in other operations, rebuild TensorFlow with the appropriate compiler flags.\n",
      "2022-01-11 16:30:40.512389: I tensorflow/stream_executor/cuda/cuda_gpu_executor.cc:939] successful NUMA node read from SysFS had negative value (-1), but there must be at least one NUMA node, so returning NUMA node zero\n",
      "2022-01-11 16:30:40.512586: I tensorflow/stream_executor/cuda/cuda_gpu_executor.cc:939] successful NUMA node read from SysFS had negative value (-1), but there must be at least one NUMA node, so returning NUMA node zero\n",
      "2022-01-11 16:30:40.512748: I tensorflow/stream_executor/cuda/cuda_gpu_executor.cc:939] successful NUMA node read from SysFS had negative value (-1), but there must be at least one NUMA node, so returning NUMA node zero\n",
      "2022-01-11 16:30:41.217828: I tensorflow/stream_executor/cuda/cuda_gpu_executor.cc:939] successful NUMA node read from SysFS had negative value (-1), but there must be at least one NUMA node, so returning NUMA node zero\n",
      "2022-01-11 16:30:41.218061: I tensorflow/stream_executor/cuda/cuda_gpu_executor.cc:939] successful NUMA node read from SysFS had negative value (-1), but there must be at least one NUMA node, so returning NUMA node zero\n",
      "2022-01-11 16:30:41.218243: I tensorflow/stream_executor/cuda/cuda_gpu_executor.cc:939] successful NUMA node read from SysFS had negative value (-1), but there must be at least one NUMA node, so returning NUMA node zero\n",
      "2022-01-11 16:30:41.218412: I tensorflow/core/common_runtime/gpu/gpu_device.cc:1525] Created device /job:localhost/replica:0/task:0/device:GPU:0 with 10226 MB memory:  -> device: 0, name: NVIDIA TITAN X (Pascal), pci bus id: 0000:01:00.0, compute capability: 6.1\n",
      "2022-01-11 16:30:41,385 - INFO - adabn.adaptive_batch_normalization: Building AdaptiveBatchNormalization layer from input shape [TensorShape([None, 43, 54, 41, 32]), TensorShape([None])]\n",
      "2022-01-11 16:30:41,694 - INFO - adabn.adaptive_batch_normalization: Building AdaptiveBatchNormalization layer from input shape [TensorShape([None, 21, 27, 20, 64]), TensorShape([None])]\n",
      "2022-01-11 16:30:41,738 - INFO - adabn.adaptive_batch_normalization: Building AdaptiveBatchNormalization layer from input shape [TensorShape([None, 10, 13, 10, 128]), TensorShape([None])]\n",
      "2022-01-11 16:30:41,793 - INFO - adabn.adaptive_batch_normalization: Building AdaptiveBatchNormalization layer from input shape [TensorShape([None, 5, 6, 5, 256]), TensorShape([None])]\n",
      "2022-01-11 16:30:41,840 - INFO - adabn.adaptive_batch_normalization: Building AdaptiveBatchNormalization layer from input shape [TensorShape([None, 2, 3, 2, 256]), TensorShape([None])]\n",
      "2022-01-11 16:30:41,912 - INFO - adabn.adaptive_batch_normalization: Building AdaptiveBatchNormalization layer from input shape [TensorShape([None, 1, 1, 1, 64]), TensorShape([None])]\n",
      "2022-01-11 16:30:41,968 - WARNING - tensorflow: Compiled the loaded model, but the compiled metrics have yet to be built. `model.compile_metrics` will be empty until you train or evaluate the model.\n",
      "2022-01-11 16:30:43.909009: W tensorflow/python/util/util.cc:368] Sets are not currently considered sequences, but this may change in the future, so consider avoiding using them.\n",
      "2022-01-11 16:30:43,920 - WARNING - absl: Function `_wrapped_model` contains input name(s) Regression3DSFCN/inputs, Regression3DSFCN/domains with unsupported characters which will be renamed to regression3dsfcn_inputs, regression3dsfcn_domains in the SavedModel.\n",
      "2022-01-11 16:30:47,214 - INFO - tensorflow: Assets written to: /home/esten/projects/scanner-adaptation/model/assets\n"
     ]
    }
   ],
   "source": [
    "import json\n",
    "\n",
    "from configure_model import configure_model\n",
    "\n",
    "model_kwargs = {\n",
    "    'input_shape': [43, 54, 41],\n",
    "    'dropout': 0.2,\n",
    "    'weight_decay': 1e-3,\n",
    "    'prediction_range': [19, 87],\n",
    "    'domains': 3\n",
    "    \n",
    "}\n",
    "model_kwargs = json.dumps(model_kwargs)\n",
    "\n",
    "configure_model(model='sfcn-reg', kwargs=model_kwargs, destination=os.path.join(project_folder, 'model'))"
   ]
  },
  {
   "cell_type": "markdown",
   "id": "76d7ec38",
   "metadata": {},
   "source": [
    "# 4. Configure a preprocessor, an augmenter and a learning rate schedule"
   ]
  },
  {
   "cell_type": "code",
   "execution_count": 5,
   "id": "866dcf52",
   "metadata": {},
   "outputs": [
    {
     "name": "stdout",
     "output_type": "stream",
     "text": [
      "NiftiPreprocessor({\n",
      "    \"sigma\": 255.0\n",
      "})\n",
      "NiftiAugmenter({\n",
      "    \"flip_probabilities\": [\n",
      "        0.5,\n",
      "        0,\n",
      "        0\n",
      "    ]\n",
      "})\n",
      "LearningRateSchedule({\n",
      "    \"schedule\": {\n",
      "        \"0\": 0.001,\n",
      "        \"20\": 0.003,\n",
      "        \"40\": 0.0001,\n",
      "        \"60\": 0.0003\n",
      "    }\n",
      "})\n"
     ]
    }
   ],
   "source": [
    "from pyment.data.augmenters import NiftiAugmenter\n",
    "from pyment.data.preprocessors import NiftiPreprocessor\n",
    "from pyment.utils.learning_rate import LearningRateSchedule\n",
    "\n",
    "# Create a preprocessor which normalizes the images to the range [0, 1]\n",
    "preprocessor = NiftiPreprocessor(sigma=255.)\n",
    "preprocessor.save(os.path.join(project_folder, 'preprocessor.json'))\n",
    "print(preprocessor)\n",
    "\n",
    "augmenter = NiftiAugmenter(flip_probabilities=[0.5, 0, 0])\n",
    "augmenter.save(os.path.join(project_folder, 'augmenter.json'))\n",
    "print(augmenter)\n",
    "\n",
    "learning_rate_schedule = LearningRateSchedule({0: 1e-3, 20: 3e-3, 40: 1e-4, 60: 3e-4})\n",
    "learning_rate_schedule.save(os.path.join(project_folder, 'learning_rate_schedule.json'))\n",
    "print(learning_rate_schedule)"
   ]
  },
  {
   "cell_type": "code",
   "execution_count": 9,
   "id": "8fbf02d1",
   "metadata": {},
   "outputs": [
    {
     "name": "stderr",
     "output_type": "stream",
     "text": [
      "2022-01-11 16:35:08,527 - INFO - tensorflow: Using MirroredStrategy with devices ('/job:localhost/replica:0/task:0/device:GPU:0',)\n",
      "2022-01-11 16:35:10,437 - WARNING - tensorflow: No training configuration found in save file, so the model was *not* compiled. Compile it manually.\n",
      "2022-01-11 16:35:10,460 - INFO - fit_model: Training on dataset with 344 samples with y ranging from 19.98 to 86.2 (mean 48.37)\n"
     ]
    },
    {
     "ename": "IsADirectoryError",
     "evalue": "[Errno 21] Is a directory: '/'",
     "output_type": "error",
     "traceback": [
      "\u001b[0;31m---------------------------------------------------------------------------\u001b[0m",
      "\u001b[0;31mIsADirectoryError\u001b[0m                         Traceback (most recent call last)",
      "\u001b[0;32m/tmp/ipykernel_5332/4133125326.py\u001b[0m in \u001b[0;36m<module>\u001b[0;34m\u001b[0m\n\u001b[1;32m     21\u001b[0m           \u001b[0mepochs\u001b[0m\u001b[0;34m=\u001b[0m\u001b[0;36m5\u001b[0m\u001b[0;34m,\u001b[0m\u001b[0;34m\u001b[0m\u001b[0;34m\u001b[0m\u001b[0m\n\u001b[1;32m     22\u001b[0m           \u001b[0mdomain\u001b[0m\u001b[0;34m=\u001b[0m\u001b[0;34m'scanner'\u001b[0m\u001b[0;34m,\u001b[0m\u001b[0;34m\u001b[0m\u001b[0;34m\u001b[0m\u001b[0m\n\u001b[0;32m---> 23\u001b[0;31m           destination=run_folder)\n\u001b[0m",
      "\u001b[0;32m~/repos/pyment-public/scripts/fit_model.py\u001b[0m in \u001b[0;36mfit_model\u001b[0;34m(model, training, validation, preprocessor, augmenter, batch_size, num_threads, loss, metrics, learning_rate_schedule, epochs, domain, destination)\u001b[0m\n\u001b[1;32m     57\u001b[0m \u001b[0;34m\u001b[0m\u001b[0m\n\u001b[1;32m     58\u001b[0m         validation = [load_dataset_from_jsonfile(filename) \\\n\u001b[0;32m---> 59\u001b[0;31m                     for filename in validation]\n\u001b[0m\u001b[1;32m     60\u001b[0m         \u001b[0mvalidation\u001b[0m \u001b[0;34m=\u001b[0m \u001b[0mreduce\u001b[0m\u001b[0;34m(\u001b[0m\u001b[0;32mlambda\u001b[0m \u001b[0mx\u001b[0m\u001b[0;34m,\u001b[0m \u001b[0my\u001b[0m\u001b[0;34m:\u001b[0m \u001b[0mx\u001b[0m \u001b[0;34m+\u001b[0m \u001b[0my\u001b[0m\u001b[0;34m,\u001b[0m \u001b[0mvalidation\u001b[0m\u001b[0;34m)\u001b[0m\u001b[0;34m\u001b[0m\u001b[0;34m\u001b[0m\u001b[0m\n\u001b[1;32m     61\u001b[0m \u001b[0;34m\u001b[0m\u001b[0m\n",
      "\u001b[0;32m~/repos/pyment-public/scripts/fit_model.py\u001b[0m in \u001b[0;36m<listcomp>\u001b[0;34m(.0)\u001b[0m\n\u001b[1;32m     57\u001b[0m \u001b[0;34m\u001b[0m\u001b[0m\n\u001b[1;32m     58\u001b[0m         validation = [load_dataset_from_jsonfile(filename) \\\n\u001b[0;32m---> 59\u001b[0;31m                     for filename in validation]\n\u001b[0m\u001b[1;32m     60\u001b[0m         \u001b[0mvalidation\u001b[0m \u001b[0;34m=\u001b[0m \u001b[0mreduce\u001b[0m\u001b[0;34m(\u001b[0m\u001b[0;32mlambda\u001b[0m \u001b[0mx\u001b[0m\u001b[0;34m,\u001b[0m \u001b[0my\u001b[0m\u001b[0;34m:\u001b[0m \u001b[0mx\u001b[0m \u001b[0;34m+\u001b[0m \u001b[0my\u001b[0m\u001b[0;34m,\u001b[0m \u001b[0mvalidation\u001b[0m\u001b[0;34m)\u001b[0m\u001b[0;34m\u001b[0m\u001b[0;34m\u001b[0m\u001b[0m\n\u001b[1;32m     61\u001b[0m \u001b[0;34m\u001b[0m\u001b[0m\n",
      "\u001b[0;32m~/repos/pyment-public/pyment/data/datasets/__init__.py\u001b[0m in \u001b[0;36mload_dataset_from_jsonfile\u001b[0;34m(path)\u001b[0m\n\u001b[1;32m      6\u001b[0m \u001b[0;34m\u001b[0m\u001b[0m\n\u001b[1;32m      7\u001b[0m \u001b[0;32mdef\u001b[0m \u001b[0mload_dataset_from_jsonfile\u001b[0m\u001b[0;34m(\u001b[0m\u001b[0mpath\u001b[0m\u001b[0;34m:\u001b[0m \u001b[0mstr\u001b[0m\u001b[0;34m)\u001b[0m \u001b[0;34m->\u001b[0m \u001b[0mDataset\u001b[0m\u001b[0;34m:\u001b[0m\u001b[0;34m\u001b[0m\u001b[0;34m\u001b[0m\u001b[0m\n\u001b[0;32m----> 8\u001b[0;31m     \u001b[0;32mwith\u001b[0m \u001b[0mopen\u001b[0m\u001b[0;34m(\u001b[0m\u001b[0mpath\u001b[0m\u001b[0;34m,\u001b[0m \u001b[0;34m'r'\u001b[0m\u001b[0;34m)\u001b[0m \u001b[0;32mas\u001b[0m \u001b[0mf\u001b[0m\u001b[0;34m:\u001b[0m\u001b[0;34m\u001b[0m\u001b[0;34m\u001b[0m\u001b[0m\n\u001b[0m\u001b[1;32m      9\u001b[0m         \u001b[0mdata\u001b[0m \u001b[0;34m=\u001b[0m \u001b[0mjson\u001b[0m\u001b[0;34m.\u001b[0m\u001b[0mload\u001b[0m\u001b[0;34m(\u001b[0m\u001b[0mf\u001b[0m\u001b[0;34m)\u001b[0m\u001b[0;34m\u001b[0m\u001b[0;34m\u001b[0m\u001b[0m\n\u001b[1;32m     10\u001b[0m \u001b[0;34m\u001b[0m\u001b[0m\n",
      "\u001b[0;31mIsADirectoryError\u001b[0m: [Errno 21] Is a directory: '/'"
     ]
    }
   ],
   "source": [
    "from shutil import rmtree\n",
    "\n",
    "from fit_model import fit_model\n",
    "\n",
    "run_folder = os.path.join(project_folder, 'run')\n",
    "\n",
    "if os.path.isdir(run_folder):\n",
    "    rmtree(run_folder)\n",
    "    \n",
    "fit_model(model=os.path.join(project_folder, 'model'),\n",
    "          training=[os.path.join(project_folder, 'data', f'fold_{i}.json') \\\n",
    "                    for i in range(4)],\n",
    "          validation=[os.path.join(project_folder, 'data', f'fold_4.json')],\n",
    "          preprocessor=os.path.join(project_folder, 'preprocessor.json'),\n",
    "          augmenter=os.path.join(project_folder, 'augmenter.json'),\n",
    "          batch_size=4,\n",
    "          num_threads=8,\n",
    "          loss='mse',\n",
    "          metrics=['mae'],\n",
    "          learning_rate_schedule=os.path.join(project_folder, 'learning_rate_schedule.json'),\n",
    "          epochs=5,\n",
    "          domain='scanner',\n",
    "          destination=run_folder)"
   ]
  },
  {
   "cell_type": "code",
   "execution_count": null,
   "id": "8da05105",
   "metadata": {},
   "outputs": [],
   "source": []
  }
 ],
 "metadata": {
  "kernelspec": {
   "display_name": "Python 3 (ipykernel)",
   "language": "python",
   "name": "python3"
  },
  "language_info": {
   "codemirror_mode": {
    "name": "ipython",
    "version": 3
   },
   "file_extension": ".py",
   "mimetype": "text/x-python",
   "name": "python",
   "nbconvert_exporter": "python",
   "pygments_lexer": "ipython3",
   "version": "3.7.12"
  }
 },
 "nbformat": 4,
 "nbformat_minor": 5
}
