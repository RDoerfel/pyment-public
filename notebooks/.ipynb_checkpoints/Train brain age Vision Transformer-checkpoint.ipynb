{
 "cells": [
  {
   "cell_type": "markdown",
   "id": "7c0d0e14",
   "metadata": {},
   "source": [
    "# 1. Split the data into folds for training/validation/test"
   ]
  },
  {
   "cell_type": "code",
   "execution_count": 2,
   "id": "b70cd30d",
   "metadata": {},
   "outputs": [
    {
     "name": "stderr",
     "output_type": "stream",
     "text": [
      "2022-01-30 21:31:45,081 - WARNING - pyment.data.datasets.nifti_dataset: Skipping IXI340-IOP-0915-T1: Missing labels\n",
      "2022-01-30 21:31:45,081 - WARNING - pyment.data.datasets.nifti_dataset: Skipping IXI333-IOP-0926-T1: Missing labels\n",
      "2022-01-30 21:31:45,085 - WARNING - pyment.data.datasets.nifti_dataset: Skipping IXI457-Guys-0984-T1: Missing labels\n",
      "2022-01-30 21:31:45,091 - WARNING - pyment.data.datasets.nifti_dataset: Skipping IXI228-Guys-0822-T1: Missing labels\n",
      "2022-01-30 21:31:45,092 - WARNING - pyment.data.datasets.nifti_dataset: Skipping IXI117-Guys-0763-T1: Missing labels\n",
      "2022-01-30 21:31:45,093 - WARNING - pyment.data.datasets.nifti_dataset: Skipping IXI661-HH-2788-T1: Missing labels\n",
      "2022-01-30 21:31:45,094 - WARNING - pyment.data.datasets.nifti_dataset: Skipping IXI623-Guys-1076-T1: Missing labels\n",
      "2022-01-30 21:31:45,094 - WARNING - pyment.data.datasets.nifti_dataset: Skipping IXI337-IOP-0929-T1: Missing labels\n",
      "2022-01-30 21:31:45,095 - WARNING - pyment.data.datasets.nifti_dataset: Skipping IXI345-IOP-0928-T1: Missing labels\n",
      "2022-01-30 21:31:45,096 - WARNING - pyment.data.datasets.nifti_dataset: Skipping IXI341-Guys-0906-T1: Missing labels\n",
      "2022-01-30 21:31:45,096 - WARNING - pyment.data.datasets.nifti_dataset: Skipping IXI435-IOP-1040-T1: Missing labels\n",
      "2022-01-30 21:31:45,097 - WARNING - pyment.data.datasets.nifti_dataset: Skipping IXI638-HH-2786-T1: Missing labels\n",
      "2022-01-30 21:31:45,097 - WARNING - pyment.data.datasets.nifti_dataset: Skipping IXI081-Guys-0855-T1: Missing labels\n",
      "2022-01-30 21:31:45,098 - WARNING - pyment.data.datasets.nifti_dataset: Skipping IXI637-HH-2785-T1: Missing labels\n",
      "2022-01-30 21:31:45,099 - WARNING - pyment.data.datasets.nifti_dataset: Skipping IXI347-IOP-0927-T1: Missing labels\n",
      "2022-01-30 21:31:45,099 - WARNING - pyment.data.datasets.nifti_dataset: Skipping IXI088-Guys-0758-T1: Missing labels\n",
      "2022-01-30 21:31:45,103 - WARNING - pyment.data.datasets.nifti_dataset: Skipping IXI643-HH-2787-T1: Missing labels\n",
      "2022-01-30 21:31:45,104 - WARNING - pyment.data.datasets.nifti_dataset: Skipping IXI589-Guys-1080-T1: Missing labels\n",
      "2022-01-30 21:31:45,120 - INFO - configure_nifti_folds: Instantiated dataset with 537 datapoints\n",
      "2022-01-30 21:31:45,143 - INFO - configure_nifti_folds: Reserved 107 images for test\n",
      "2022-01-30 21:31:45,143 - INFO - configure_nifti_folds: Using 430 images for folds\n",
      "2022-01-30 21:31:45,175 - INFO - configure_nifti_folds: Datasets:\n",
      "                       sex   age mean    age max    age min       dataset  \\\n",
      "split                                                                       \n",
      "fold 0  {'F': 48, 'M': 38}  48.129539  80.169747  19.980835   {'IXI': 86}   \n",
      "fold 1  {'M': 37, 'F': 49}  48.289162  80.802190  20.071184   {'IXI': 86}   \n",
      "fold 2  {'M': 37, 'F': 49}  48.443341  82.187543  20.167009   {'IXI': 86}   \n",
      "fold 3  {'M': 45, 'F': 41}  48.607389  86.198494  20.213552   {'IXI': 86}   \n",
      "fold 4  {'F': 45, 'M': 41}  48.753132  86.318960  20.928131   {'IXI': 86}   \n",
      "test    {'M': 45, 'F': 62}  48.563869  83.457906  20.908966  {'IXI': 107}   \n",
      "\n",
      "                                  scanner  \n",
      "split                                      \n",
      "fold 0  {'IOP': 10, 'Guys': 48, 'HH': 28}  \n",
      "fold 1  {'Guys': 47, 'HH': 29, 'IOP': 10}  \n",
      "fold 2  {'HH': 27, 'Guys': 48, 'IOP': 11}  \n",
      "fold 3   {'HH': 29, 'Guys': 50, 'IOP': 7}  \n",
      "fold 4  {'HH': 22, 'Guys': 50, 'IOP': 14}  \n",
      "test    {'HH': 34, 'Guys': 57, 'IOP': 16}  \n",
      "\n"
     ]
    }
   ],
   "source": [
    "import os\n",
    "import sys\n",
    "\n",
    "# Add scripts folder to path\n",
    "sys.path.append(os.path.join(os.pardir, 'scripts'))\n",
    "\n",
    "from configure_nifti_folds import configure_nifti_folds\n",
    "\n",
    "data_folder = os.path.join(os.path.expanduser('~'), 'data', 'IXI', 'resized')\n",
    "project_folder = os.path.join(os.path.expanduser('~'), 'projects', 'vision-transformer')\n",
    "\n",
    "if not os.path.isdir(project_folder):\n",
    "    os.mkdir(project_folder)\n",
    "    \n",
    "if not os.path.isdir(os.path.join(project_folder, 'data')):\n",
    "    configure_nifti_folds(folders=[data_folder], targets='age', stratification=['age', 'sex', 'scanner'],\n",
    "                          k=5, test_portion=0.2, destination=os.path.join(project_folder, 'data'))"
   ]
  },
  {
   "cell_type": "markdown",
   "id": "3f2507f1",
   "metadata": {},
   "source": [
    "# 2. Configure an Regression Vision Transformer"
   ]
  },
  {
   "cell_type": "code",
   "execution_count": 5,
   "id": "89b52a3b",
   "metadata": {},
   "outputs": [
    {
     "ename": "ValueError",
     "evalue": "Unknown model vis-mini-reg",
     "output_type": "error",
     "traceback": [
      "\u001b[0;31m---------------------------------------------------------------------------\u001b[0m",
      "\u001b[0;31mValueError\u001b[0m                                Traceback (most recent call last)",
      "\u001b[0;32m/tmp/ipykernel_6525/390836942.py\u001b[0m in \u001b[0;36m<module>\u001b[0;34m\u001b[0m\n\u001b[1;32m     13\u001b[0m \u001b[0mmodel_kwargs\u001b[0m \u001b[0;34m=\u001b[0m \u001b[0mjson\u001b[0m\u001b[0;34m.\u001b[0m\u001b[0mdumps\u001b[0m\u001b[0;34m(\u001b[0m\u001b[0mmodel_kwargs\u001b[0m\u001b[0;34m)\u001b[0m\u001b[0;34m\u001b[0m\u001b[0;34m\u001b[0m\u001b[0m\n\u001b[1;32m     14\u001b[0m \u001b[0;34m\u001b[0m\u001b[0m\n\u001b[0;32m---> 15\u001b[0;31m \u001b[0mconfigure_model\u001b[0m\u001b[0;34m(\u001b[0m\u001b[0mmodel\u001b[0m\u001b[0;34m=\u001b[0m\u001b[0;34m'vis-mini-reg'\u001b[0m\u001b[0;34m,\u001b[0m \u001b[0mkwargs\u001b[0m\u001b[0;34m=\u001b[0m\u001b[0mmodel_kwargs\u001b[0m\u001b[0;34m,\u001b[0m \u001b[0mdestination\u001b[0m\u001b[0;34m=\u001b[0m\u001b[0mos\u001b[0m\u001b[0;34m.\u001b[0m\u001b[0mpath\u001b[0m\u001b[0;34m.\u001b[0m\u001b[0mjoin\u001b[0m\u001b[0;34m(\u001b[0m\u001b[0mproject_folder\u001b[0m\u001b[0;34m,\u001b[0m \u001b[0;34m'model'\u001b[0m\u001b[0;34m)\u001b[0m\u001b[0;34m)\u001b[0m\u001b[0;34m\u001b[0m\u001b[0;34m\u001b[0m\u001b[0m\n\u001b[0m",
      "\u001b[0;32m~/repos/pyment-public/scripts/configure_model.py\u001b[0m in \u001b[0;36mconfigure_model\u001b[0;34m(model, kwargs, destination)\u001b[0m\n\u001b[1;32m     14\u001b[0m     \u001b[0mkwargs\u001b[0m \u001b[0;34m=\u001b[0m \u001b[0mjson\u001b[0m\u001b[0;34m.\u001b[0m\u001b[0mloads\u001b[0m\u001b[0;34m(\u001b[0m\u001b[0mkwargs\u001b[0m\u001b[0;34m)\u001b[0m\u001b[0;34m\u001b[0m\u001b[0;34m\u001b[0m\u001b[0m\n\u001b[1;32m     15\u001b[0m \u001b[0;34m\u001b[0m\u001b[0m\n\u001b[0;32m---> 16\u001b[0;31m     \u001b[0mmodel\u001b[0m \u001b[0;34m=\u001b[0m \u001b[0mget\u001b[0m\u001b[0;34m(\u001b[0m\u001b[0mmodel\u001b[0m\u001b[0;34m,\u001b[0m \u001b[0;34m**\u001b[0m\u001b[0mkwargs\u001b[0m\u001b[0;34m)\u001b[0m\u001b[0;34m\u001b[0m\u001b[0;34m\u001b[0m\u001b[0m\n\u001b[0m\u001b[1;32m     17\u001b[0m \u001b[0;34m\u001b[0m\u001b[0m\n\u001b[1;32m     18\u001b[0m     \u001b[0mmodel\u001b[0m\u001b[0;34m.\u001b[0m\u001b[0msave\u001b[0m\u001b[0;34m(\u001b[0m\u001b[0mdestination\u001b[0m\u001b[0;34m)\u001b[0m\u001b[0;34m\u001b[0m\u001b[0;34m\u001b[0m\u001b[0m\n",
      "\u001b[0;32m~/repos/pyment-public/pyment/models/__init__.py\u001b[0m in \u001b[0;36mget\u001b[0;34m(model_name, **kwargs)\u001b[0m\n\u001b[1;32m     15\u001b[0m         \u001b[0;32mreturn\u001b[0m \u001b[0mRankingSFCN\u001b[0m\u001b[0;34m(\u001b[0m\u001b[0;34m**\u001b[0m\u001b[0mkwargs\u001b[0m\u001b[0;34m)\u001b[0m\u001b[0;34m\u001b[0m\u001b[0;34m\u001b[0m\u001b[0m\n\u001b[1;32m     16\u001b[0m     elif model_name.lower() in ['regressionvisiontransformermini',\n\u001b[0;32m---> 17\u001b[0;31m                                 'vis-mini-reg']:\n\u001b[0m\u001b[1;32m     18\u001b[0m         \u001b[0;32mreturn\u001b[0m \u001b[0mRegressionVisionTransformerMini\u001b[0m\u001b[0;34m(\u001b[0m\u001b[0;34m**\u001b[0m\u001b[0mkwargs\u001b[0m\u001b[0;34m)\u001b[0m\u001b[0;34m\u001b[0m\u001b[0;34m\u001b[0m\u001b[0m\n\u001b[1;32m     19\u001b[0m     \u001b[0;32melse\u001b[0m\u001b[0;34m:\u001b[0m\u001b[0;34m\u001b[0m\u001b[0;34m\u001b[0m\u001b[0m\n",
      "\u001b[0;31mValueError\u001b[0m: Unknown model vis-mini-reg"
     ]
    }
   ],
   "source": [
    "import json\n",
    "\n",
    "from configure_model import configure_model\n",
    "\n",
    "model_kwargs = {\n",
    "    'input_shape': [43, 54, 41],\n",
    "    'intermediate_dropout': 0.1,\n",
    "    'dropout': 0.5,\n",
    "    'weight_decay': 1e-3,\n",
    "    'prediction_range': [19, 87]\n",
    "    \n",
    "}\n",
    "model_kwargs = json.dumps(model_kwargs)\n",
    "\n",
    "configure_model(model='vis-mini-reg', kwargs=model_kwargs, destination=os.path.join(project_folder, 'model'))"
   ]
  },
  {
   "cell_type": "markdown",
   "id": "76d7ec38",
   "metadata": {},
   "source": [
    "# 3. Configure a preprocessor, an augmenter and a learning rate schedule"
   ]
  },
  {
   "cell_type": "code",
   "execution_count": null,
   "id": "866dcf52",
   "metadata": {},
   "outputs": [],
   "source": [
    "from pyment.data.augmenters import NiftiAugmenter\n",
    "from pyment.data.preprocessors import NiftiPreprocessor\n",
    "from pyment.utils.learning_rate import LearningRateSchedule\n",
    "\n",
    "# Create a preprocessor which normalizes the images to the range [0, 1]\n",
    "preprocessor = NiftiPreprocessor(sigma=255.)\n",
    "preprocessor.save(os.path.join(project_folder, 'preprocessor.json'))\n",
    "print(preprocessor)\n",
    "\n",
    "augmenter = NiftiAugmenter(flip_probabilities=[0.5, 0, 0])\n",
    "augmenter.save(os.path.join(project_folder, 'augmenter.json'))\n",
    "print(augmenter)\n",
    "\n",
    "learning_rate_schedule = LearningRateSchedule({0: 1e-3, 20: 3e-3, 40: 1e-4, 60: 3e-4})\n",
    "learning_rate_schedule.save(os.path.join(project_folder, 'learning_rate_schedule.json'))\n",
    "print(learning_rate_schedule)"
   ]
  },
  {
   "cell_type": "code",
   "execution_count": null,
   "id": "771ecf4b",
   "metadata": {},
   "outputs": [],
   "source": [
    "from shutil import rmtree\n",
    "\n",
    "from fit_model import fit_model\n",
    "\n",
    "run_folder = os.path.join(project_folder, 'run')\n",
    "\n",
    "if os.path.isdir(run_folder):\n",
    "    rmtree(run_folder)\n",
    "    \n",
    "fit_model(model=os.path.join(project_folder, 'model'),\n",
    "          training=[os.path.join(project_folder, 'data', f'fold_{i}.json') \\\n",
    "                    for i in range(4)],\n",
    "          validation=[os.path.join(project_folder, 'data', f'fold_4.json')],\n",
    "          preprocessor=os.path.join(project_folder, 'preprocessor.json'),\n",
    "          augmenter=os.path.join(project_folder, 'augmenter.json'),\n",
    "          batch_size=4,\n",
    "          num_threads=8,\n",
    "          loss='mse',\n",
    "          metrics=['mae'],\n",
    "          learning_rate_schedule=os.path.join(project_folder, 'learning_rate_schedule.json'),\n",
    "          epochs=5,\n",
    "          domain=None,\n",
    "          destination=run_folder)"
   ]
  },
  {
   "cell_type": "code",
   "execution_count": null,
   "id": "650a11a2",
   "metadata": {},
   "outputs": [],
   "source": []
  }
 ],
 "metadata": {
  "kernelspec": {
   "display_name": "Python 3 (ipykernel)",
   "language": "python",
   "name": "python3"
  },
  "language_info": {
   "codemirror_mode": {
    "name": "ipython",
    "version": 3
   },
   "file_extension": ".py",
   "mimetype": "text/x-python",
   "name": "python",
   "nbconvert_exporter": "python",
   "pygments_lexer": "ipython3",
   "version": "3.7.12"
  }
 },
 "nbformat": 4,
 "nbformat_minor": 5
}
