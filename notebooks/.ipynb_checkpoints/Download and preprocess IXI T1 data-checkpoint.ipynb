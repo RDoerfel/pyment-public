{
 "cells": [
  {
   "cell_type": "markdown",
   "id": "e5f764e9-673a-40b0-a780-6b9f1398d78b",
   "metadata": {},
   "source": [
    "### 0. Configuration"
   ]
  },
  {
   "cell_type": "code",
   "execution_count": 3,
   "id": "52311038-d697-4e4f-b787-08e2a8d26ac4",
   "metadata": {},
   "outputs": [],
   "source": [
    "import os\n",
    "\n",
    "ROOT_FOLDER = os.path.join(os.path.expanduser('~'), 'data', 'IXI')\n",
    "NUM_THREADS = 8\n",
    "MNI152_TEMPLATE = '/usr/local/fsl/data/standard/MNI152_T1_1mm.nii.gz'\n",
    "IXI_URL = 'http://biomedic.doc.ic.ac.uk/brain-development/downloads/IXI'\n",
    "\n",
    "tar_path = os.path.join(ROOT_FOLDER, 'IXI-T1.tar')\n",
    "raw_folder = os.path.join(ROOT_FOLDER, 'images')\n",
    "freesurfer_fsl_folder = os.path.join(ROOT_FOLDER, 'freesurfer+fsl')\n",
    "labels_file = os.path.join(ROOT_FOLDER, 'IXI.xls')\n",
    "\n",
    "ixi_images_url = f'{IXI_URL}/IXI-T1.tar'\n",
    "ixi_labels_url = f'{IXI_URL}/IXI.xls'\n",
    "\n",
    "if not os.path.isdir(ROOT_FOLDER):\n",
    "    print(f'Creating root folder {ROOT_FOLDER}')\n",
    "    os.mkdir(ROOT_FOLDER)"
   ]
  },
  {
   "cell_type": "markdown",
   "id": "217409db-62da-42ff-add1-91f64ca6380e",
   "metadata": {},
   "source": [
    "### 1. Download IXI (if necessary)"
   ]
  },
  {
   "cell_type": "code",
   "execution_count": 4,
   "id": "f05e9d9b-c43c-4d29-9984-d05434e54282",
   "metadata": {},
   "outputs": [],
   "source": [
    "import math\n",
    "import requests\n",
    "import tarfile\n",
    "\n",
    "from shutil import rmtree\n",
    "from tqdm import tqdm\n",
    "\n",
    "def download(url: str, filename: str, chunksize: int = 2**16):\n",
    "    \"\"\" Downloads a file from a given url to a given path in chunks. \"\"\"\n",
    "    resp = requests.get(url, stream=True)\n",
    "\n",
    "    size = int(resp.headers.get('content-length')) \\\n",
    "           if 'content-length' in resp.headers else None\n",
    "    \n",
    "    with open(filename, 'wb') as f:\n",
    "        downloaded = 0\n",
    "        for chunk in tqdm(resp.iter_content(chunk_size=chunksize), total=math.ceil(size / chunksize)):\n",
    "            f.write(chunk)\n",
    "\n",
    "# Checks whether the folder with raw T1 data exists and contains the correct number of images\n",
    "if not (os.path.isdir(raw_folder) and len(os.listdir(raw_folder)) == 581):\n",
    "    print('Downloading and unpacking IXI dataset')\n",
    "    rmtree(raw_folder)\n",
    "    os.mkdir(raw_folder)\n",
    "    \n",
    "    if not os.path.isfile(tar_path):\n",
    "        print('Downloading tarball')\n",
    "        download(ixi_images_url, tar_path)\n",
    "        \n",
    "    with tarfile.open(tar_path) as tarball:\n",
    "        tarball.extractall(raw_folder)\n",
    "\n",
    "if not os.path.isfile(labels_file):\n",
    "    print('Downloading IXI labels')\n",
    "    download(ixi_labels_url, labels_file)"
   ]
  },
  {
   "cell_type": "markdown",
   "id": "66444b6b-7086-4ff8-9a69-a8d0d374d99f",
   "metadata": {},
   "source": [
    "### 2. Perform FreeSurfer+FSL preprocessing"
   ]
  },
  {
   "cell_type": "code",
   "execution_count": 6,
   "id": "c284d49c-0c68-450e-87fc-4314f3b17115",
   "metadata": {},
   "outputs": [
    {
     "ename": "AttributeError",
     "evalue": "module 'os' has no attribute 'abspath'",
     "output_type": "error",
     "traceback": [
      "\u001b[0;31m---------------------------------------------------------------------------\u001b[0m",
      "\u001b[0;31mAttributeError\u001b[0m                            Traceback (most recent call last)",
      "Cell \u001b[0;32mIn[6], line 7\u001b[0m\n\u001b[1;32m      2\u001b[0m \u001b[38;5;28;01mimport\u001b[39;00m \u001b[38;5;21;01mnumpy\u001b[39;00m \u001b[38;5;28;01mas\u001b[39;00m \u001b[38;5;21;01mnp\u001b[39;00m\n\u001b[1;32m      4\u001b[0m \u001b[38;5;28;01mfrom\u001b[39;00m \u001b[38;5;21;01mthreading\u001b[39;00m \u001b[38;5;28;01mimport\u001b[39;00m Thread\n\u001b[0;32m----> 7\u001b[0m preprocessing_script \u001b[38;5;241m=\u001b[39m \u001b[43mos\u001b[49m\u001b[38;5;241;43m.\u001b[39;49m\u001b[43mabspath\u001b[49m(os\u001b[38;5;241m.\u001b[39mpath\u001b[38;5;241m.\u001b[39mjoin(os\u001b[38;5;241m.\u001b[39mpardir, \u001b[38;5;124m'\u001b[39m\u001b[38;5;124mpreprocessing\u001b[39m\u001b[38;5;124m'\u001b[39m, \u001b[38;5;124m'\u001b[39m\u001b[38;5;124mfreesurfer_and_fsl.sh\u001b[39m\u001b[38;5;124m'\u001b[39m))\n\u001b[1;32m      9\u001b[0m \u001b[38;5;28;01mif\u001b[39;00m \u001b[38;5;129;01mnot\u001b[39;00m os\u001b[38;5;241m.\u001b[39mpath\u001b[38;5;241m.\u001b[39misfile(preprocessing_script):\n\u001b[1;32m     10\u001b[0m     \u001b[38;5;28;01mraise\u001b[39;00m \u001b[38;5;167;01mValueError\u001b[39;00m(\u001b[38;5;124m'\u001b[39m\u001b[38;5;124mUnable to find FreeSurfer+FSL preprocessing script\u001b[39m\u001b[38;5;124m'\u001b[39m)\n",
      "\u001b[0;31mAttributeError\u001b[0m: module 'os' has no attribute 'abspath'"
     ]
    }
   ],
   "source": [
    "import subprocess\n",
    "import numpy as np\n",
    "\n",
    "from threading import Thread\n",
    "\n",
    "\n",
    "preprocessing_script = os.path.abspath(os.path.join(os.pardir, 'preprocessing', 'freesurfer_and_fsl.sh'))\n",
    "\n",
    "if not os.path.isfile(preprocessing_script):\n",
    "    raise ValueError('Unable to find FreeSurfer+FSL preprocessing script')\n",
    "\n",
    "class Worker(Thread):\n",
    "    def __init__(self, files, source, destination):\n",
    "        self.files = files\n",
    "        self.source = source\n",
    "        self.destination = destination\n",
    "\n",
    "    def run(self):\n",
    "        for filename in tqdm(self.files):\n",
    "            subject = filename.replace('.nii.gz', '')\n",
    "            cmd = ['bash', preprocessing_script, \n",
    "                   '-f', os.path.join(self.source, filename), \n",
    "                   '-d', os.path.join(self.destination, subject),\n",
    "                   '-t', MNI152_TEMPLATE]\n",
    "            subprocess.call(cmd)\n",
    "            break\n",
    "\n",
    "if not os.path.isdir(freesurfer_fsl_folder):\n",
    "    os.mkdir(freesurfer_fsl_folder)\n",
    "\n",
    "images = os.listdir(raw_folder)\n",
    "batches = np.array_split(images, NUM_THREADS)\n",
    "\n",
    "threads = [Worker(batch, raw_folder, freesurfer_fsl_folder) for batch in batches]\n",
    "[worker.start() for worker in threads]\n",
    "[worker.join() for worker in threads]"
   ]
  },
  {
   "cell_type": "code",
   "execution_count": null,
   "id": "83c86f10-ea82-45c0-be76-995a8515fd94",
   "metadata": {},
   "outputs": [],
   "source": []
  }
 ],
 "metadata": {
  "kernelspec": {
   "display_name": "Python 3 (ipykernel)",
   "language": "python",
   "name": "python3"
  },
  "language_info": {
   "codemirror_mode": {
    "name": "ipython",
    "version": 3
   },
   "file_extension": ".py",
   "mimetype": "text/x-python",
   "name": "python",
   "nbconvert_exporter": "python",
   "pygments_lexer": "ipython3",
   "version": "3.10.14"
  }
 },
 "nbformat": 4,
 "nbformat_minor": 5
}
