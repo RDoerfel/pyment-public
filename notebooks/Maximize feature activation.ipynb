{
 "cells": [
  {
   "cell_type": "markdown",
   "metadata": {},
   "source": [
    "# 0. Configure the notebook for visualization"
   ]
  },
  {
   "cell_type": "code",
   "execution_count": null,
   "metadata": {},
   "outputs": [],
   "source": [
    "%load_ext autoreload\n",
    "%autoreload 2\n",
    "%matplotlib notebook"
   ]
  },
  {
   "cell_type": "markdown",
   "metadata": {},
   "source": [
    "# 1. Sanity check the visualization function"
   ]
  },
  {
   "cell_type": "code",
   "execution_count": null,
   "metadata": {},
   "outputs": [],
   "source": [
    "import matplotlib.pyplot as plt\n",
    "import numpy as np\n",
    "import tensorflow as tf\n",
    "\n",
    "from tensorflow.keras.applications import VGG16\n",
    "\n",
    "from pyment.interpretability import maximize_feature_activation\n",
    "\n",
    "np.random.seed(42)\n",
    "tf.random.set_seed(42)\n",
    "\n",
    "model = VGG16(weights='imagenet', include_top=True)\n",
    "layer = 'predictions'\n",
    "\n",
    "labels = {\n",
    "    'goldfish': 1,\n",
    "    'vulture': 23,\n",
    "    'tarantula': 76,\n",
    "    'zebra': 340\n",
    "}\n",
    "\n",
    "keys = list(labels.keys())\n",
    "\n",
    "for i in range(len(keys)):\n",
    "    label = keys[i]\n",
    "    index = labels[keys[i]]\n",
    "\n",
    "    initial = np.random.uniform(size=(224, 224, 3)).astype(np.float32)\n",
    "    initial = (initial - 0.5) * 0.25\n",
    "\n",
    "    img = maximize_feature_activation(model, layer=layer, index=index, initial=initial,\n",
    "                                      l2_decay=1e-3, blur_every=4, blur_width=1,\n",
    "                                      norm_threshold=0.05, \n",
    "                                      contribution_threshold=0.1)\n",
    "\n",
    "    img = img - np.amin(img)\n",
    "    img = img / np.amax(img)\n",
    "\n",
    "    fig = plt.figure(figsize=(5, 5))\n",
    "    plt.imshow(img[0])\n",
    "    plt.suptitle(label)\n",
    "    plt.axis('off')\n",
    "    plt.show()\n"
   ]
  },
  {
   "cell_type": "markdown",
   "metadata": {},
   "source": [
    "# 2. Run the visualization on the brain age model"
   ]
  },
  {
   "cell_type": "code",
   "execution_count": null,
   "metadata": {},
   "outputs": [],
   "source": [
    "from pyment.models import RegressionSFCN\n",
    "from pyment.interpretability import VolumeViewer\n",
    "\n",
    "model = RegressionSFCN(weights='brain-age')\n",
    "\n",
    "layer = 'Regression3DSFCN/block5/conv'\n",
    "    \n",
    "\n",
    "initial = np.random.uniform(size=(167, 212, 160)).astype(np.float32)\n",
    "\n",
    "for i in range(64):\n",
    "    img = maximize_feature_activation(model, layer=layer, index=0, initial=initial,\n",
    "                                      l2_decay=1e-3, blur_every=4, blur_width=1,\n",
    "                                      norm_threshold=0.05, \n",
    "                                      contribution_threshold=0.1)\n",
    "\n",
    "    VolumeViewer(img[0], title=f'Feature {i}')\n"
   ]
  },
  {
   "cell_type": "code",
   "execution_count": null,
   "metadata": {},
   "outputs": [],
   "source": []
  }
 ],
 "metadata": {
  "kernelspec": {
   "display_name": "Python 3 (ipykernel)",
   "language": "python",
   "name": "python3"
  },
  "language_info": {
   "codemirror_mode": {
    "name": "ipython",
    "version": 3
   },
   "file_extension": ".py",
   "mimetype": "text/x-python",
   "name": "python",
   "nbconvert_exporter": "python",
   "pygments_lexer": "ipython3",
   "version": "3.7.12"
  }
 },
 "nbformat": 4,
 "nbformat_minor": 4
}
