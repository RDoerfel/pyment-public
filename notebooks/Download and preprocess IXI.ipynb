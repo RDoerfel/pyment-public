{
 "cells": [
  {
   "cell_type": "markdown",
   "id": "c86bc653",
   "metadata": {},
   "source": [
    "## 0. Configure paths and URLs"
   ]
  },
  {
   "cell_type": "code",
   "execution_count": null,
   "id": "bfbb419a",
   "metadata": {},
   "outputs": [],
   "source": [
    "import os\n",
    "\n",
    "from shutil import copyfile\n",
    "\n",
    "\n",
    "# URL to IXI images\n",
    "ixi_images_path = 'http://biomedic.doc.ic.ac.uk/brain-development/downloads/IXI/IXI-T1.tar'\n",
    "\n",
    "# URL to IXI labels\n",
    "ixi_labels_path = 'http://biomedic.doc.ic.ac.uk/brain-development/downloads/IXI/IXI.xls'\n",
    "\n",
    "# Root path where images should be stored\n",
    "ixi_folder = os.path.join(os.path.expanduser('~'), 'data', 'IXI')\n",
    "\n",
    "# Path to MNI152 template\n",
    "mni_template = os.path.join('/', 'usr', 'local', 'fsl', 'data', 'standard', \n",
    "                            'MNI152lin_T1_1mm_brain.nii.gz')"
   ]
  },
  {
   "cell_type": "markdown",
   "id": "45a3f9e7",
   "metadata": {},
   "source": [
    "## 1. Setup folder structure and ensure all necessary software and packages is installed"
   ]
  },
  {
   "cell_type": "code",
   "execution_count": null,
   "id": "87ad8b9a",
   "metadata": {},
   "outputs": [],
   "source": [
    "from shutil import which\n",
    "\n",
    "\n",
    "if not os.path.isdir(ixi_folder):\n",
    "    os.mkdir(ixi_folder)\n",
    "    \n",
    "tar_path = os.path.join(ixi_folder, 'IXI-T1.tar')\n",
    "xls_path = os.path.join(ixi_folder, 'IXI.xls')\n",
    "\n",
    "def exists(software: str):\n",
    "    return which(software) is not None\n",
    "\n",
    "software = ['recon-all', 'mri_convert', 'fslreorient2std', 'flirt']\n",
    "missing = [name for name in software if not exists(name)]\n",
    "\n",
    "if len(missing) > 0:\n",
    "    raise ValueError(f'Missing required software {missing}')"
   ]
  },
  {
   "cell_type": "markdown",
   "id": "fea34c9b",
   "metadata": {},
   "source": [
    "## 2. Download, extract and reorganize the data"
   ]
  },
  {
   "cell_type": "code",
   "execution_count": null,
   "id": "d8322ab2",
   "metadata": {},
   "outputs": [],
   "source": [
    "import tarfile\n",
    "import numpy as np\n",
    "import pandas as pd\n",
    "\n",
    "from pyment.utils import download\n",
    "\n",
    "download(ixi_images_path, tar_path)\n",
    "download(ixi_labels_path, xls_path)\n",
    "\n",
    "# Unpack the tar file\n",
    "tar = tarfile.open(tar_path)\n",
    "tar.extractall(os.path.join(ixi_folder, 'raw', 'images'))\n",
    "tar.close()\n",
    "\n",
    "# Reorganize the labels into a CSV\n",
    "df = pd.read_excel(xls_path)\n",
    "filenames = os.listdir(os.path.join(ixi_folder, 'raw', 'images'))\n",
    "\n",
    "# Match filenames with label ids\n",
    "mapping = {int(filename[3:6]): filename.split('.')[0] for filename in filenames}\n",
    "df['id'] = df['IXI_ID'].apply(lambda x: mapping[x] if x in mapping else np.nan)\n",
    "\n",
    "# Simplify sex coding\n",
    "df['sex'] = df['SEX_ID (1=m, 2=f)'].apply(lambda x: {1: 'M', 2: 'F'}[x])\n",
    "df['age'] = df['AGE']\n",
    "\n",
    "# Simplify table and drop duplicates and rows missing data\n",
    "df = df[['id', 'sex', 'age']]\n",
    "df = df.drop_duplicates('id')\n",
    "df = df.dropna(subset=['id', 'sex', 'age'])\n",
    "\n",
    "df.to_csv(os.path.join(ixi_folder, 'raw', 'labels.csv'), index=False)"
   ]
  },
  {
   "cell_type": "markdown",
   "id": "aec8d830",
   "metadata": {},
   "source": [
    "## 3. Preprocess the data"
   ]
  },
  {
   "cell_type": "code",
   "execution_count": null,
   "id": "48f0b9ad",
   "metadata": {},
   "outputs": [],
   "source": [
    "from pyment.utils.preprocessing import autorecon1_folder\n",
    "\n",
    "if not os.path.isdir(os.path.join(ixi_folder, 'recon')):\n",
    "    os.mkdir(os.path.join(ixi_folder, 'recon'))\n",
    "\n",
    "autorecon1_folder(os.path.join(ixi_folder, 'raw', 'images'), \n",
    "                  os.path.join(ixi_folder, 'recon'), threads=4)"
   ]
  },
  {
   "cell_type": "code",
   "execution_count": null,
   "id": "52b2e554",
   "metadata": {},
   "outputs": [],
   "source": [
    "if not os.path.isdir(os.path.join(ixi_folder, 'brainmasks', 'images')):\n",
    "    os.makedirs(os.path.join(ixi_folder, 'brainmasks', 'images'))\n",
    "\n",
    "for subject in os.listdir(os.path.join(ixi_folder, 'recon')):\n",
    "    brainmask = os.path.join(ixi_folder, 'recon', subject, 'mri', 'brainmask.mgz')\n",
    "    brainmask = os.path.abspath(brainmask)\n",
    "    \n",
    "    if not os.path.isfile(brainmask):\n",
    "        print(f'Skipping {subject}. Missing brainmask')\n",
    "        continue\n",
    "        \n",
    "    target = os.path.join(ixi_folder, 'brainmasks', 'images', f'{subject}.mgz')\n",
    "        \n",
    "    # Check if the symlink already exists, and if so overwrite it\n",
    "    if os.path.exists(target) or os.path.islink(target):\n",
    "        os.remove(target)\n",
    "        \n",
    "    os.symlink(brainmask, target)\n",
    "    \n",
    "initial = len(os.listdir(os.path.join(ixi_folder, 'recon')))\n",
    "final = len(os.listdir(os.path.join(ixi_folder, 'brainmasks', 'images')))\n",
    "failed = initial - final\n",
    "\n",
    "f'Finished brain mask extraction step. {failed} images failed'"
   ]
  },
  {
   "cell_type": "code",
   "execution_count": null,
   "id": "469a67c7",
   "metadata": {},
   "outputs": [],
   "source": [
    "from pyment.utils.preprocessing import convert_mgz_to_nii_gz_folder\n",
    "\n",
    "\n",
    "if not os.path.isdir(os.path.join(ixi_folder, 'nifti', 'images')):\n",
    "    os.makedirs(os.path.join(ixi_folder, 'nifti', 'images'))\n",
    "\n",
    "convert_mgz_to_nii_gz_folder(os.path.join(ixi_folder, 'brainmasks', 'images'),\n",
    "                             os.path.join(ixi_folder, 'nifti', 'images'))\n",
    "\n",
    "initial = len(os.listdir(os.path.join(ixi_folder, 'brainmasks', 'images')))\n",
    "final = len(os.listdir(os.path.join(ixi_folder, 'nifti', 'images')))\n",
    "failed = initial - final\n",
    "\n",
    "f'Finished conversion step. {failed} images failed'"
   ]
  },
  {
   "cell_type": "code",
   "execution_count": null,
   "id": "86837eca",
   "metadata": {},
   "outputs": [],
   "source": [
    "from pyment.utils.preprocessing import reorient2std_folder\n",
    "\n",
    "\n",
    "if not os.path.isdir(os.path.join(ixi_folder, 'reoriented', 'images')):\n",
    "    os.makedirs(os.path.join(ixi_folder, 'reoriented', 'images'))\n",
    "    \n",
    "reorient2std_folder(os.path.join(ixi_folder, 'nifti', 'images'),\n",
    "                    os.path.join(ixi_folder, 'reoriented', 'images'))\n",
    "\n",
    "initial = len(os.listdir(os.path.join(ixi_folder, 'nifti', 'images')))\n",
    "final = len(os.listdir(os.path.join(ixi_folder, 'reoriented', 'images')))\n",
    "failed = initial - final\n",
    "\n",
    "f'Finished reorientation step. {failed} images failed'"
   ]
  },
  {
   "cell_type": "code",
   "execution_count": null,
   "id": "1e8fa9d4",
   "metadata": {},
   "outputs": [],
   "source": [
    "from pyment.utils.preprocessing import flirt_folder\n",
    "\n",
    "\n",
    "if not os.path.isdir(os.path.join(ixi_folder, 'mni152', 'images')):\n",
    "    os.makedirs(os.path.join(ixi_folder, 'mni152', 'images'))\n",
    "    \n",
    "flirt_folder(os.path.join(ixi_folder, 'reoriented', 'images'),\n",
    "             os.path.join(ixi_folder, 'mni152', 'images'), template=mni_template)\n",
    "\n",
    "initial = len(os.listdir(os.path.join(ixi_folder, 'reoriented', 'images')))\n",
    "final = len(os.listdir(os.path.join(ixi_folder, 'mni152', 'images')))\n",
    "failed = initial - final\n",
    "\n",
    "f'Finished alignment step. {failed} images failed'"
   ]
  },
  {
   "cell_type": "code",
   "execution_count": null,
   "id": "5f4d1cb0",
   "metadata": {},
   "outputs": [],
   "source": [
    "from pyment.utils.preprocessing import crop_folder\n",
    "\n",
    "\n",
    "if not os.path.isdir(os.path.join(ixi_folder, 'cropped', 'images')):\n",
    "    os.makedirs(os.path.join(ixi_folder, 'cropped', 'images'))\n",
    "    \n",
    "bounds = ((6, 173), (2, 214), (0, 160))\n",
    "    \n",
    "crop_folder(os.path.join(ixi_folder, 'mni152', 'images'),\n",
    "            os.path.join(ixi_folder, 'cropped', 'images'), bounds)\n",
    "\n",
    "initial = len(os.listdir(os.path.join(ixi_folder, 'mni152', 'images')))\n",
    "final = len(os.listdir(os.path.join(ixi_folder, 'cropped', 'images')))\n",
    "failed = initial - final\n",
    "\n",
    "f'Finished cropping step. {failed} images failed'"
   ]
  },
  {
   "cell_type": "code",
   "execution_count": null,
   "id": "57dbe8d7",
   "metadata": {},
   "outputs": [],
   "source": [
    "copyfile(os.path.join(ixi_folder, 'raw', 'labels.csv'),\n",
    "         os.path.join(ixi_folder, 'cropped', 'labels.csv'))\n",
    "\n",
    "files = os.listdir(os.path.join(ixi_folder, 'cropped', 'images'))\n",
    "\n",
    "f'Finished preprocessing {len(files)} IXI images'"
   ]
  },
  {
   "cell_type": "code",
   "execution_count": null,
   "id": "398a46fe",
   "metadata": {},
   "outputs": [],
   "source": []
  }
 ],
 "metadata": {
  "kernelspec": {
   "display_name": "Python 3 (ipykernel)",
   "language": "python",
   "name": "python3"
  },
  "language_info": {
   "codemirror_mode": {
    "name": "ipython",
    "version": 3
   },
   "file_extension": ".py",
   "mimetype": "text/x-python",
   "name": "python",
   "nbconvert_exporter": "python",
   "pygments_lexer": "ipython3",
   "version": "3.7.12"
  }
 },
 "nbformat": 4,
 "nbformat_minor": 5
}
