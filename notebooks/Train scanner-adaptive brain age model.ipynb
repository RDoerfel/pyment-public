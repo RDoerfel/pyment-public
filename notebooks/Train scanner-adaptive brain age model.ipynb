{
 "cells": [
  {
   "cell_type": "markdown",
   "id": "85885894",
   "metadata": {},
   "source": [
    "# 0. Add scanner column to IXI labels file"
   ]
  },
  {
   "cell_type": "code",
   "execution_count": null,
   "id": "c98c018a",
   "metadata": {},
   "outputs": [],
   "source": [
    "import os\n",
    "import pandas as pd\n",
    "\n",
    "data_folder = os.path.join(os.path.expanduser('~'), 'data', 'IXI', 'resized')\n",
    "labels_file = os.path.join(data_folder, 'labels.csv')\n",
    "project_folder = os.path.join(os.path.expanduser('~'), 'projects', 'scanner-adaptation')\n",
    "\n",
    "df = pd.read_csv(labels_file, index_col=False)\n",
    "df['scanner'] = df['id'].apply(lambda x: x.split('-')[1])\n",
    "df.to_csv(labels_file, index=False)\n",
    "df.head()"
   ]
  },
  {
   "cell_type": "markdown",
   "id": "872ce19f",
   "metadata": {},
   "source": [
    "# 1. Configure a label encoding the scanners"
   ]
  },
  {
   "cell_type": "code",
   "execution_count": null,
   "id": "d64f68fc",
   "metadata": {},
   "outputs": [],
   "source": [
    "# Add scripts folder to path\n",
    "import sys\n",
    "sys.path.append(os.path.join(os.pardir, 'scripts'))\n",
    "\n",
    "from configure_label import configure_label\n",
    "\n",
    "configure_label(name='scanner', variabletype='categorical', filenames=[labels_file], columns=['scanner'],\n",
    "                destination=os.path.join(project_folder, 'scanners.json'), kwargs='{\"encoding\": \"index\"}')"
   ]
  },
  {
   "cell_type": "markdown",
   "id": "7c0d0e14",
   "metadata": {},
   "source": [
    "# 2. Split the data into folds for training/validation/test"
   ]
  },
  {
   "cell_type": "code",
   "execution_count": null,
   "id": "b70cd30d",
   "metadata": {},
   "outputs": [],
   "source": [
    "from configure_nifti_folds import configure_nifti_folds\n",
    "\n",
    "configure_nifti_folds(folders=[data_folder], targets='age', stratification=['age', 'sex', 'scanner'],\n",
    "                      k=5, test_portion=0.2, encoders=[os.path.join(project_folder, 'scanners.json')],\n",
    "                      destination=os.path.join(project_folder, 'data'))"
   ]
  },
  {
   "cell_type": "markdown",
   "id": "3f2507f1",
   "metadata": {},
   "source": [
    "# 3. Configure a domain-adaptive SFCN regression model"
   ]
  },
  {
   "cell_type": "code",
   "execution_count": null,
   "id": "89b52a3b",
   "metadata": {},
   "outputs": [],
   "source": [
    "import json\n",
    "\n",
    "from configure_model import configure_model\n",
    "\n",
    "model_kwargs = {\n",
    "    'input_shape': [43, 54, 41],\n",
    "    'dropout': 0.2,\n",
    "    'weight_decay': 1e-3,\n",
    "    'prediction_range': [19, 87],\n",
    "    'domains': 3\n",
    "    \n",
    "}\n",
    "model_kwargs = json.dumps(model_kwargs)\n",
    "\n",
    "configure_model(model='sfcn-reg', kwargs=model_kwargs, destination=os.path.join(project_folder, 'adaptive_model'))"
   ]
  },
  {
   "cell_type": "markdown",
   "id": "76d7ec38",
   "metadata": {},
   "source": [
    "# 4. Configure a preprocessor, an augmenter and a learning rate schedule"
   ]
  },
  {
   "cell_type": "code",
   "execution_count": null,
   "id": "866dcf52",
   "metadata": {},
   "outputs": [],
   "source": [
    "from pyment.data.augmenters import NiftiAugmenter\n",
    "from pyment.data.preprocessors import NiftiPreprocessor\n",
    "from pyment.utils.learning_rate import LearningRateSchedule\n",
    "\n",
    "# Create a preprocessor which normalizes the images to the range [0, 1]\n",
    "preprocessor = NiftiPreprocessor(sigma=255.)\n",
    "preprocessor.save(os.path.join(project_folder, 'preprocessor.json'))\n",
    "print(preprocessor)\n",
    "\n",
    "augmenter = NiftiAugmenter(flip_probabilities=[0.5, 0, 0])\n",
    "augmenter.save(os.path.join(project_folder, 'augmenter.json'))\n",
    "print(augmenter)\n",
    "\n",
    "learning_rate_schedule = LearningRateSchedule({0: 1e-3, 20: 3e-3, 40: 1e-4, 60: 3e-4})\n",
    "learning_rate_schedule.save(os.path.join(project_folder, 'learning_rate_schedule.json'))\n",
    "print(learning_rate_schedule)"
   ]
  },
  {
   "cell_type": "code",
   "execution_count": null,
   "id": "8fbf02d1",
   "metadata": {},
   "outputs": [],
   "source": [
    "from shutil import rmtree\n",
    "\n",
    "from fit_model import fit_model\n",
    "\n",
    "run_folder = os.path.join(project_folder, 'run')\n",
    "\n",
    "if os.path.isdir(run_folder):\n",
    "    rmtree(run_folder)\n",
    "    \n",
    "fit_model(model=os.path.join(project_folder, 'model'),\n",
    "          training=[os.path.join(project_folder, 'data', f'fold_{i}.json') \\\n",
    "                    for i in range(4)],\n",
    "          validation=[os.path.join(project_folder, 'data', f'fold_4.json')],\n",
    "          preprocessor=os.path.join(project_folder, 'preprocessor.json'),\n",
    "          augmenter=os.path.join(project_folder, 'augmenter.json'),\n",
    "          batch_size=4,\n",
    "          num_threads=8,\n",
    "          loss='mse',\n",
    "          metrics=['mae'],\n",
    "          learning_rate_schedule=os.path.join(project_folder, 'learning_rate_schedule.json'),\n",
    "          epochs=5,\n",
    "          domain='scanner',\n",
    "          destination=run_folder)"
   ]
  },
  {
   "cell_type": "code",
   "execution_count": null,
   "id": "771ecf4b",
   "metadata": {},
   "outputs": [],
   "source": [
    "from shutil import rmtree\n",
    "\n",
    "from fit_model import fit_model\n",
    "\n",
    "run_folder = os.path.join(project_folder, 'run')\n",
    "\n",
    "if os.path.isdir(run_folder):\n",
    "    rmtree(run_folder)\n",
    "    \n",
    "fit_model(model=os.path.join(project_folder, 'model'),\n",
    "          training=[os.path.join(project_folder, 'data', f'fold_{i}.json') \\\n",
    "                    for i in range(4)],\n",
    "          validation=[os.path.join(project_folder, 'data', f'fold_4.json')],\n",
    "          preprocessor=os.path.join(project_folder, 'preprocessor.json'),\n",
    "          augmenter=os.path.join(project_folder, 'augmenter.json'),\n",
    "          batch_size=4,\n",
    "          num_threads=8,\n",
    "          loss='mse',\n",
    "          metrics=['mae'],\n",
    "          learning_rate_schedule=os.path.join(project_folder, 'learning_rate_schedule.json'),\n",
    "          epochs=5,\n",
    "          domain=None,\n",
    "          destination=run_folder)"
   ]
  },
  {
   "cell_type": "code",
   "execution_count": null,
   "id": "cad5aee0",
   "metadata": {},
   "outputs": [],
   "source": []
  }
 ],
 "metadata": {
  "kernelspec": {
   "display_name": "Python 3 (ipykernel)",
   "language": "python",
   "name": "python3"
  },
  "language_info": {
   "codemirror_mode": {
    "name": "ipython",
    "version": 3
   },
   "file_extension": ".py",
   "mimetype": "text/x-python",
   "name": "python",
   "nbconvert_exporter": "python",
   "pygments_lexer": "ipython3",
   "version": "3.7.12"
  }
 },
 "nbformat": 4,
 "nbformat_minor": 5
}
