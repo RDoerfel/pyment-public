{
 "cells": [
  {
   "cell_type": "markdown",
   "id": "ef7e5616",
   "metadata": {},
   "source": [
    "## 0. Setup"
   ]
  },
  {
   "cell_type": "code",
   "execution_count": null,
   "id": "2569b806",
   "metadata": {},
   "outputs": [],
   "source": [
    "import os\n",
    "\n",
    "\n",
    "batch_size = 2\n",
    "threads = 4\n",
    "\n",
    "# Should point to the root folder of the cropped images, see the tutorial for preparing IXI\n",
    "dataset_folder = os.path.join(os.path.expanduser('~'), 'data', 'IXI', 'cropped')"
   ]
  },
  {
   "cell_type": "markdown",
   "id": "1db444ba",
   "metadata": {},
   "source": [
    "## 1. Instantiate the generator"
   ]
  },
  {
   "cell_type": "code",
   "execution_count": null,
   "id": "08d2c95f",
   "metadata": {},
   "outputs": [],
   "source": [
    "from pyment.data import AsyncNiftiGenerator, NiftiDataset\n",
    "\n",
    "\n",
    "dataset = NiftiDataset.from_folder(dataset_folder, target='age')\n",
    "\n",
    "# Set up a preprocessor to normalize the voxel values\n",
    "preprocessor = lambda x: x/255\n",
    "\n",
    "generator = AsyncNiftiGenerator(dataset, preprocessor=preprocessor, \n",
    "                                batch_size=batch_size, threads=threads)"
   ]
  },
  {
   "cell_type": "markdown",
   "id": "5de8b040",
   "metadata": {},
   "source": [
    "## 2. Sanity check the generator"
   ]
  },
  {
   "cell_type": "code",
   "execution_count": null,
   "id": "a3972ae8",
   "metadata": {},
   "outputs": [],
   "source": [
    "import matplotlib.pyplot as plt\n",
    "import numpy as np\n",
    "\n",
    "batches = 0\n",
    "\n",
    "for X, y in generator:\n",
    "    fig, ax = plt.subplots(1, batch_size)\n",
    "    fig.suptitle(f'Batch {batches+1}')\n",
    "    \n",
    "    for i in range(batch_size):\n",
    "        ax[i].imshow(X[i,83,:,:])\n",
    "        ax[i].axis('off')\n",
    "        ax[i].set_title(round(y[i], 2))\n",
    "        \n",
    "    plt.show()\n",
    "    \n",
    "    print(f'Image batch shape: {X.shape}')\n",
    "    print(f'Image voxel value range: {round(np.amin(X), 2)}-{round(np.amax(X), 2)}')\n",
    "    \n",
    "    batches += 1\n",
    "    \n",
    "    if batches > 2:\n",
    "        break"
   ]
  },
  {
   "cell_type": "markdown",
   "id": "eea77f32",
   "metadata": {},
   "source": [
    "## 3. Configure the model"
   ]
  },
  {
   "cell_type": "code",
   "execution_count": null,
   "id": "aeb54df6",
   "metadata": {},
   "outputs": [],
   "source": [
    "from pyment.models import RegressionSFCN\n",
    "\n",
    "\n",
    "model = RegressionSFCN(weights='brain-age')"
   ]
  },
  {
   "cell_type": "markdown",
   "id": "a231c222",
   "metadata": {},
   "source": [
    "## 4. Generate predictions"
   ]
  },
  {
   "cell_type": "code",
   "execution_count": null,
   "id": "6543207c",
   "metadata": {},
   "outputs": [],
   "source": [
    "generator.reset()\n",
    "\n",
    "preds, labels = model.predict(generator, return_labels=True)"
   ]
  },
  {
   "cell_type": "code",
   "execution_count": null,
   "id": "1797ed05",
   "metadata": {},
   "outputs": [],
   "source": [
    "preds = preds.squeeze()\n",
    "mae = np.mean(np.abs(preds - labels))\n",
    "fig = plt.figure(figsize=(10, 10))\n",
    "plt.scatter(preds, labels, c='black', alpha=0.5)\n",
    "fig.suptitle('Brain age predictions')\n",
    "plt.xlim([0, 100])\n",
    "plt.ylim([0, 100])\n",
    "plt.plot([0, 100], [0, 100], c='red')\n",
    "plt.xlabel('Predictions')\n",
    "plt.ylabel('Observed')\n",
    "plt.show()\n",
    "\n",
    "print(f'MAE: {mae}')"
   ]
  },
  {
   "cell_type": "code",
   "execution_count": null,
   "id": "5c790911",
   "metadata": {},
   "outputs": [],
   "source": []
  }
 ],
 "metadata": {
  "kernelspec": {
   "display_name": "Python 3",
   "language": "python",
   "name": "python3"
  },
  "language_info": {
   "codemirror_mode": {
    "name": "ipython",
    "version": 3
   },
   "file_extension": ".py",
   "mimetype": "text/x-python",
   "name": "python",
   "nbconvert_exporter": "python",
   "pygments_lexer": "ipython3",
   "version": "3.9.5"
  }
 },
 "nbformat": 4,
 "nbformat_minor": 5
}
